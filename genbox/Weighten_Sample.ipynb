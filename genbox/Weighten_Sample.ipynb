{
 "cells": [
  {
   "cell_type": "code",
   "execution_count": 1,
   "id": "717e658d-1063-4ea2-9eca-d70214d49caf",
   "metadata": {},
   "outputs": [],
   "source": [
    "import numpy as np\n",
    "import random"
   ]
  },
  {
   "cell_type": "code",
   "execution_count": 54,
   "id": "79d0f98c-317a-42e3-994d-b963e794d232",
   "metadata": {},
   "outputs": [],
   "source": [
    "def weighted_random_sampling(arr, x, arr_len_factor=0.07):\n",
    "    arr_len = len(arr)\n",
    "    some_constant = arr_len * arr_len_factor\n",
    "    weights = 1 / (np.arange(arr_len) + some_constant)\n",
    "    \n",
    "    probabilities = weights / weights.sum()\n",
    "    sampled_elements = np.random.choice(arr, size=x, p=probabilities, replace=True)\n",
    "    \n",
    "    return sampled_elements"
   ]
  },
  {
   "cell_type": "code",
   "execution_count": 98,
   "id": "38e3be11-b710-4f4f-9711-7d4f2f8b96c8",
   "metadata": {},
   "outputs": [
    {
     "name": "stdout",
     "output_type": "stream",
     "text": [
      "[35]\n"
     ]
    }
   ],
   "source": [
    "elements = np.arange(90)\n",
    "selects = weighted_random_sampling(elements, 1)\n",
    "print(selects)"
   ]
  }
 ],
 "metadata": {
  "kernelspec": {
   "display_name": "Python 3 (ipykernel)",
   "language": "python",
   "name": "python3"
  },
  "language_info": {
   "codemirror_mode": {
    "name": "ipython",
    "version": 3
   },
   "file_extension": ".py",
   "mimetype": "text/x-python",
   "name": "python",
   "nbconvert_exporter": "python",
   "pygments_lexer": "ipython3",
   "version": "3.10.14"
  }
 },
 "nbformat": 4,
 "nbformat_minor": 5
}
